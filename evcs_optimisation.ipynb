{
 "cells": [
  {
   "cell_type": "code",
   "execution_count": 1,
   "id": "7df8542f",
   "metadata": {},
   "outputs": [],
   "source": [
    "import pandas as pd\n",
    "import numpy as np\n",
    "import matplotlib.pyplot as plt\n",
    "from PIL import Image\n",
    "from pulp import (\n",
    "LpProblem, LpMinimize, LpVariable, lpSum,\n",
    "LpBinary, LpContinuous, PULP_CBC_CMD\n",
    ")\n",
    "\n",
    "# Local reusable modules\n",
    "from evcs_model import config, data_loader, evcs_model"
   ]
  },
  {
   "cell_type": "code",
   "execution_count": 15,
   "id": "49037ef5",
   "metadata": {},
   "outputs": [
    {
     "name": "stdout",
     "output_type": "stream",
     "text": [
      "EVCS placement optimisation model with the objective to minimise the total operational cost\n"
     ]
    }
   ],
   "source": [
    "# -------------------------------\n",
    "# Part 2: Display Title\n",
    "# -------------------------------\n",
    "print(\"EVCS placement optimisation model with the objective to minimise the total operational cost\")"
   ]
  },
  {
   "cell_type": "code",
   "execution_count": 26,
   "id": "2aaac18f",
   "metadata": {},
   "outputs": [
    {
     "name": "stdout",
     "output_type": "stream",
     "text": [
      "   Link  From  To  Capacity  Distance\n",
      "0     1     1   2      1500         6\n",
      "1     2     1   3      1500         4\n",
      "2     3     2   1      1500         6\n",
      "3     4     2   6      1500         5\n",
      "4     5     3   1      1500         4\n",
      "   Node  EV demand\n",
      "0     1         11\n",
      "1     2         14\n",
      "2     3         10\n",
      "3     4         15\n",
      "4     5         12\n"
     ]
    }
   ],
   "source": [
    "# -------------------------------\n",
    "# Part 2: Load data and display network\n",
    "# -------------------------------\n",
    "\n",
    "# Read network data\n",
    "network_df = data_loader.load_network_data()\n",
    "\n",
    "# Read EV demand data\n",
    "demand_df = data_loader.load_demand_data()\n",
    "\n",
    "# Preview both\n",
    "print(network_df.head())\n",
    "print(demand_df.head())\n",
    "\n",
    "#-------- Part 3: Display network image ---------\n",
    "img = Image.open(\"data/Sioux-Falls-Network.jpg\")\n",
    "plt.figure(figsize=(8, 8))\n",
    "plt.imshow(img)\n",
    "plt.axis('off')\n",
    "plt.title(\"Sioux Falls Transportation Network\")\n",
    "plt.show()"
   ]
  },
  {
   "cell_type": "code",
   "execution_count": null,
   "id": "8b9eccf1-6ee8-4f46-b5df-ec46694e5e8e",
   "metadata": {},
   "outputs": [],
   "source": [
    "# -------------------------------\n",
    "# Part 3: Process data\n",
    "# -------------------------------\n",
    "\n",
    "# Unique node list\n",
    "nodes = sorted(set(network_df['From']).union(network_df['To']))\n",
    "\n",
    "# Demand per node (ensure 0 demand for missing)\n",
    "demand = dict(zip(demand_df['Node'], demand_df['EV demand']))\n",
    "for n in nodes:\n",
    "    demand.setdefault(n, 0)\n",
    "\n",
    "# Symmetric distance matrix\n",
    "dist_matrix = {(row['From'], row['To']): row['Distance'] for _, row in network_df.iterrows()}\n",
    "for i, j in list(dist_matrix):\n",
    "    dist_matrix[(j, i)] = dist_matrix[(i, j)]"
   ]
  },
  {
   "cell_type": "code",
   "execution_count": 39,
   "id": "8c21b5e2",
   "metadata": {},
   "outputs": [
    {
     "name": "stdout",
     "output_type": "stream",
     "text": [
      "\n",
      "🚉 Selected EVCS Locations:\n",
      "[3, 6, 8, 12, 16, 17, 22, 23]\n",
      "\n",
      "🔌 Demand Assignments (i → j):\n",
      "  Node 1 → Charging Station 3: 11.0 units\n",
      "  Node 2 → Charging Station 6: 14.0 units\n",
      "  Node 3 → Charging Station 12: 10.0 units\n",
      "  Node 4 → Charging Station 3: 15.0 units\n",
      "  Node 5 → Charging Station 6: 12.0 units\n",
      "  Node 6 → Charging Station 8: 10.0 units\n",
      "  Node 7 → Charging Station 8: 14.0 units\n",
      "  Node 8 → Charging Station 6: 9.0 units\n",
      "  Node 9 → Charging Station 8: 5.0 units\n",
      "  Node 10 → Charging Station 16: 12.0 units\n",
      "  Node 11 → Charging Station 12: 11.0 units\n",
      "  Node 12 → Charging Station 3: 15.0 units\n",
      "  Node 13 → Charging Station 12: 11.0 units\n",
      "  Node 14 → Charging Station 23: 12.0 units\n",
      "  Node 15 → Charging Station 22: 10.0 units\n",
      "  Node 16 → Charging Station 17: 12.0 units\n",
      "  Node 17 → Charging Station 16: 13.0 units\n",
      "  Node 18 → Charging Station 16: 7.0 units\n",
      "  Node 19 → Charging Station 17: 15.0 units\n",
      "  Node 20 → Charging Station 22: 9.0 units\n",
      "  Node 21 → Charging Station 22: 9.0 units\n",
      "  Node 22 → Charging Station 23: 9.0 units\n",
      "  Node 23 → Charging Station 22: 14.0 units\n",
      "  Node 24 → Charging Station 23: 7.0 units\n"
     ]
    }
   ],
   "source": [
    "# -------------------------------\n",
    "# Part 4: Optimise the network\n",
    "# -------------------------------\n",
    "\n",
    "# Model\n",
    "model = LpProblem(\"EVCS_Operational_Cost_Minimisation\", LpMinimize)\n",
    "\n",
    "# Decision variables\n",
    "x = {j: LpVariable(f\"x_{j}\", cat=LpBinary) for j in nodes}\n",
    "y = {\n",
    "    (i, j): LpVariable(f\"y_{i}_{j}\", lowBound=0, cat=LpContinuous)\n",
    "    for i in nodes for j in nodes\n",
    "    if (i, j) in dist_matrix and dist_matrix[i, j] <= coverage_radius\n",
    "}\n",
    "\n",
    "# Objective function: minimise station cost + travel cost\n",
    "model += (\n",
    "    lpSum(x[j] * station_cost for j in nodes) +\n",
    "    lpSum(y[i, j] * dist_matrix[i, j] * per_km_cost for (i, j) in y)\n",
    ")\n",
    "\n",
    "# Constraint 1: each node's demand must be fully satisfied\n",
    "for i in nodes:\n",
    "    model += lpSum(y[i, j] for j in nodes if (i, j) in y) == demand[i]\n",
    "\n",
    "# Constraint 2: demand assigned only if a station is placed\n",
    "for (i, j) in y:\n",
    "    model += y[i, j] <= demand[i] * x[j]\n",
    "\n",
    "# Constraint 3: limit on total number of stations\n",
    "model += lpSum(x[j] for j in nodes) <= max_stations\n",
    "\n",
    "# Solve\n",
    "model.solve(PULP_CBC_CMD(msg=1))"
   ]
  },
  {
   "cell_type": "code",
   "execution_count": null,
   "id": "03f91c3f-c9e5-40fb-b70a-38c197cabba4",
   "metadata": {},
   "outputs": [],
   "source": [
    "# -------------------------------\n",
    "# Part 4: Display results\n",
    "# -------------------------------\n",
    "\n",
    "selected_stations = [j for j in nodes if x[j].varValue > 0.5]\n",
    "assignments = [(i, j, y[i, j].varValue) for (i, j) in y if y[i, j].varValue > 0.01]\n",
    "\n",
    "print(\"\\n🚉 Selected EVCS Locations:\")\n",
    "print(selected_stations)\n",
    "\n",
    "print(\"\\n🔌 Demand Assignments (i → j):\")\n",
    "for i, j, amt in assignments:\n",
    "    if x[j].varValue < 0.5:\n",
    "        print(f\"⚠️  ERROR: Assigned demand to node {j}, which has no station!\")\n",
    "    print(f\"  Node {i} → Charging Station {j}: {amt:.1f} units\")"
   ]
  }
 ],
 "metadata": {
  "kernelspec": {
   "display_name": "Python 3 (ipykernel)",
   "language": "python",
   "name": "python3"
  },
  "language_info": {
   "codemirror_mode": {
    "name": "ipython",
    "version": 3
   },
   "file_extension": ".py",
   "mimetype": "text/x-python",
   "name": "python",
   "nbconvert_exporter": "python",
   "pygments_lexer": "ipython3",
   "version": "3.12.4"
  }
 },
 "nbformat": 4,
 "nbformat_minor": 5
}
