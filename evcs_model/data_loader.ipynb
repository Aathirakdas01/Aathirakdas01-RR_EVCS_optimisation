{
 "cells": [
  {
   "cell_type": "code",
   "execution_count": null,
   "id": "dded0b81-4bac-436a-8027-70b7ceeb62ae",
   "metadata": {},
   "outputs": [],
   "source": [
    "# -------------------------------\n",
    "# Functions to load input data\n",
    "# -------------------------------\n",
    "\n",
    "import pandas as pd\n",
    "\n",
    "def load_network_data():\n",
    "    \"\"\"Load the network data CSV as a pandas DataFrame.\"\"\"\n",
    "    return pd.read_csv(config.NETWORK_CSV_PATH)\n",
    "\n",
    "def load_demand_data():\n",
    "    \"\"\"Load the EV demand data CSV as a pandas DataFrame.\"\"\"\n",
    "    return pd.read_csv(config.DEMAND_CSV_PATH)"
   ]
  }
 ],
 "metadata": {
  "kernelspec": {
   "display_name": "Python 3 (ipykernel)",
   "language": "python",
   "name": "python3"
  },
  "language_info": {
   "codemirror_mode": {
    "name": "ipython",
    "version": 3
   },
   "file_extension": ".py",
   "mimetype": "text/x-python",
   "name": "python",
   "nbconvert_exporter": "python",
   "pygments_lexer": "ipython3",
   "version": "3.12.4"
  }
 },
 "nbformat": 4,
 "nbformat_minor": 5
}
