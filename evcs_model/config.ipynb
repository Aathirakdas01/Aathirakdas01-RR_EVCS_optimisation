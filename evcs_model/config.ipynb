{
 "cells": [
  {
   "cell_type": "code",
   "execution_count": null,
   "id": "ebf44fd0-53b2-48ff-9961-0ca7b8c76939",
   "metadata": {},
   "outputs": [],
   "source": [
    "# -------------------------------\n",
    "# Constants and model settings\n",
    "# -------------------------------\n",
    "\n",
    "# File paths (relative or absolute)\n",
    "NETWORK_CSV_PATH = \"data/network.csv\"\n",
    "DEMAND_CSV_PATH = \"data/ev_demand.csv\"\n",
    "\n",
    "# Maximum distance covered\n",
    "COVERAGE_DIST = 20\n",
    "\n",
    "# Maximum number of stations allowed\n",
    "MAX_STATIONS = 10\n",
    "\n",
    "# Station installation cost\n",
    "FIXED_COST = 1000\n",
    "\n",
    "# Cost per unit demand per unit distance\n",
    "VARIABLE_COST = 2"
   ]
  }
 ],
 "metadata": {
  "kernelspec": {
   "display_name": "Python 3 (ipykernel)",
   "language": "python",
   "name": "python3"
  },
  "language_info": {
   "codemirror_mode": {
    "name": "ipython",
    "version": 3
   },
   "file_extension": ".py",
   "mimetype": "text/x-python",
   "name": "python",
   "nbconvert_exporter": "python",
   "pygments_lexer": "ipython3",
   "version": "3.12.4"
  }
 },
 "nbformat": 4,
 "nbformat_minor": 5
}
