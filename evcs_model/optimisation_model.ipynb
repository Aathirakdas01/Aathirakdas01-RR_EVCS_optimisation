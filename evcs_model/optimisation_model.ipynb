{
 "cells": [
  {
   "cell_type": "code",
   "execution_count": null,
   "id": "d3430e32-469e-47b5-911a-9b1ea28d6476",
   "metadata": {},
   "outputs": [],
   "source": [
    "# -------------------------------\n",
    "# Core optimisation logic\n",
    "# -------------------------------\n",
    "\n",
    "from pulp import LpProblem, LpMinimize, LpVariable, lpSum, LpBinary, PULP_CBC_CMD\n",
    "\n",
    "def build_and_solve_model(nodes, demand, distance_matrix, config):"
   ]
  }
 ],
 "metadata": {
  "kernelspec": {
   "display_name": "Python 3 (ipykernel)",
   "language": "python",
   "name": "python3"
  },
  "language_info": {
   "codemirror_mode": {
    "name": "ipython",
    "version": 3
   },
   "file_extension": ".py",
   "mimetype": "text/x-python",
   "name": "python",
   "nbconvert_exporter": "python",
   "pygments_lexer": "ipython3",
   "version": "3.12.4"
  }
 },
 "nbformat": 4,
 "nbformat_minor": 5
}
